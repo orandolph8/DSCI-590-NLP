{
 "cells": [
  {
   "cell_type": "code",
   "execution_count": 1,
   "id": "4051e5ce-8cf3-48d9-a2bc-c0bf6c779a4c",
   "metadata": {},
   "outputs": [
    {
     "name": "stdout",
     "output_type": "stream",
     "text": [
      "Defaulting to user installation because normal site-packages is not writeable\n",
      "Collecting tiktoken\n",
      "  Downloading tiktoken-0.11.0-cp312-cp312-win_amd64.whl.metadata (6.9 kB)\n",
      "Collecting regex>=2022.1.18 (from tiktoken)\n",
      "  Downloading regex-2025.8.29-cp312-cp312-win_amd64.whl.metadata (41 kB)\n",
      "Requirement already satisfied: requests>=2.26.0 in c:\\users\\orand\\appdata\\local\\packages\\pythonsoftwarefoundation.python.3.12_qbz5n2kfra8p0\\localcache\\local-packages\\python312\\site-packages (from tiktoken) (2.32.3)\n",
      "Requirement already satisfied: charset-normalizer<4,>=2 in c:\\users\\orand\\appdata\\local\\packages\\pythonsoftwarefoundation.python.3.12_qbz5n2kfra8p0\\localcache\\local-packages\\python312\\site-packages (from requests>=2.26.0->tiktoken) (3.3.2)\n",
      "Requirement already satisfied: idna<4,>=2.5 in c:\\users\\orand\\appdata\\local\\packages\\pythonsoftwarefoundation.python.3.12_qbz5n2kfra8p0\\localcache\\local-packages\\python312\\site-packages (from requests>=2.26.0->tiktoken) (3.7)\n",
      "Requirement already satisfied: urllib3<3,>=1.21.1 in c:\\users\\orand\\appdata\\local\\packages\\pythonsoftwarefoundation.python.3.12_qbz5n2kfra8p0\\localcache\\local-packages\\python312\\site-packages (from requests>=2.26.0->tiktoken) (2.2.2)\n",
      "Requirement already satisfied: certifi>=2017.4.17 in c:\\users\\orand\\appdata\\local\\packages\\pythonsoftwarefoundation.python.3.12_qbz5n2kfra8p0\\localcache\\local-packages\\python312\\site-packages (from requests>=2.26.0->tiktoken) (2024.6.2)\n",
      "Downloading tiktoken-0.11.0-cp312-cp312-win_amd64.whl (884 kB)\n",
      "   ---------------------------------------- 0.0/884.3 kB ? eta -:--:--\n",
      "   ---------------------------------------- 884.3/884.3 kB 9.9 MB/s eta 0:00:00\n",
      "Downloading regex-2025.8.29-cp312-cp312-win_amd64.whl (275 kB)\n",
      "Installing collected packages: regex, tiktoken\n",
      "Successfully installed regex-2025.8.29 tiktoken-0.11.0\n"
     ]
    },
    {
     "name": "stderr",
     "output_type": "stream",
     "text": [
      "\n",
      "[notice] A new release of pip is available: 24.3.1 -> 25.2\n",
      "[notice] To update, run: C:\\Users\\orand\\AppData\\Local\\Microsoft\\WindowsApps\\PythonSoftwareFoundation.Python.3.12_qbz5n2kfra8p0\\python.exe -m pip install --upgrade pip\n"
     ]
    }
   ],
   "source": [
    "! pip install tiktoken"
   ]
  },
  {
   "cell_type": "code",
   "execution_count": 2,
   "id": "2952cdc6-a67f-4e07-9f8d-c9df07ddaee4",
   "metadata": {},
   "outputs": [],
   "source": [
    "import tiktoken\n"
   ]
  },
  {
   "cell_type": "code",
   "execution_count": 5,
   "id": "47abb644-4886-4c2a-83e7-5b214919e591",
   "metadata": {},
   "outputs": [
    {
     "name": "stdout",
     "output_type": "stream",
     "text": [
      "[13225, 11, 5922]\n"
     ]
    }
   ],
   "source": [
    "enc = tiktoken.encoding_for_model(\"gpt-4o\")\n",
    "\n",
    "# encode a string into tokens\n",
    "tokens = enc.encode(\"Hello, World\")\n",
    "print(tokens) # [13225, 11, 2375]"
   ]
  },
  {
   "cell_type": "code",
   "execution_count": 6,
   "id": "906bfd4f-0859-47a4-9663-b5417013b752",
   "metadata": {},
   "outputs": [
    {
     "name": "stdout",
     "output_type": "stream",
     "text": [
      "b'Hello'\n",
      "b','\n",
      "b' world'\n"
     ]
    }
   ],
   "source": [
    "# decode each token back into a string\n",
    "decoded_text = enc.decode_single_token_bytes(13225)\n",
    "print(decoded_text) # b'Hello'\n",
    "\n",
    "decoded_text = enc.decode_single_token_bytes(11)\n",
    "print(decoded_text) # b','\n",
    "\n",
    "decoded_text = enc.decode_single_token_bytes(2375)\n",
    "print(decoded_text) # b' world'"
   ]
  },
  {
   "cell_type": "code",
   "execution_count": 12,
   "id": "9b20d9b0-c46c-43b8-bc96-6dbf4beb6b91",
   "metadata": {},
   "outputs": [
    {
     "name": "stdout",
     "output_type": "stream",
     "text": [
      "[24169]\n",
      "[53784]\n"
     ]
    }
   ],
   "source": [
    "print(enc.encode(\"world\")) # [24169]\n",
    "print(enc.encode(\"wares\")) # [2375]\n"
   ]
  },
  {
   "cell_type": "code",
   "execution_count": 13,
   "id": "2deae8fc-9d79-45d0-89bf-ff4992d613f4",
   "metadata": {},
   "outputs": [
    {
     "name": "stdout",
     "output_type": "stream",
     "text": [
      "Hello, World\n"
     ]
    }
   ],
   "source": [
    "decoded_text = enc.decode(tokens)\n",
    "print(decoded_text) # \"Hello, world'"
   ]
  },
  {
   "cell_type": "code",
   "execution_count": 14,
   "id": "7c1ca0ca-b7ec-4cf6-8060-c04b1c096c2e",
   "metadata": {},
   "outputs": [
    {
     "name": "stdout",
     "output_type": "stream",
     "text": [
      "[1923, 1233, 3866, 53047, 68714, 291, 18655]\n"
     ]
    }
   ],
   "source": [
    "# A tokenization where a word is divided into subwords (multiple tokens)\n",
    "tokens = enc.encode(\"Deoxyribonucleic acid\")\n",
    "print(tokens) # [1923, 1233, 3866, 53047, 68714, 291, 18655]"
   ]
  },
  {
   "cell_type": "code",
   "execution_count": 15,
   "id": "d2ea60f5-a822-4b8f-8d08-6c6cc8040c2f",
   "metadata": {},
   "outputs": [
    {
     "name": "stdout",
     "output_type": "stream",
     "text": [
      "b'De'\n",
      "b'ox'\n",
      "b'yr'\n",
      "b'ibon'\n",
      "b'ucle'\n",
      "b'ic'\n",
      "b' acid'\n"
     ]
    }
   ],
   "source": [
    "for token in tokens:\n",
    "    print(enc.decode_single_token_bytes(token))"
   ]
  },
  {
   "cell_type": "code",
   "execution_count": 16,
   "id": "a05a9e75-a405-4fa2-aec7-eb77a15423f8",
   "metadata": {},
   "outputs": [
    {
     "ename": "SystemExit",
     "evalue": "Error: set your API key in the OPENAI_API_KEY environment variable.",
     "output_type": "error",
     "traceback": [
      "An exception has occurred, use %tb to see the full traceback.\n",
      "\u001b[1;31mSystemExit\u001b[0m\u001b[1;31m:\u001b[0m Error: set your API key in the OPENAI_API_KEY environment variable.\n"
     ]
    },
    {
     "name": "stderr",
     "output_type": "stream",
     "text": [
      "C:\\Users\\orand\\AppData\\Local\\Packages\\PythonSoftwareFoundation.Python.3.12_qbz5n2kfra8p0\\LocalCache\\local-packages\\Python312\\site-packages\\IPython\\core\\interactiveshell.py:3585: UserWarning: To exit: use 'exit', 'quit', or Ctrl-D.\n",
      "  warn(\"To exit: use 'exit', 'quit', or Ctrl-D.\", stacklevel=1)\n"
     ]
    }
   ],
   "source": [
    "import os, sys, requests\n",
    "\n",
    "OPENAI_API_KEY = os.getenv(\"OPENAI_API_KEY\")\n",
    "if not OPENAI_API_KEY:\n",
    "    sys.exit(\"Error: set your API key in the OPENAI_API_KEY environment variable.\")\n",
    "\n",
    "response = requests.post(\n",
    "    \"https://api.openai.com/v1/chat/completions\",\n",
    "    headers={\n",
    "        \"Authorization\": f\"Bearer {OPENAI_API_KEY}\",\n",
    "        \"Content-Type\": \"application/json\",\n",
    "    },\n",
    "    json={\n",
    "        \"model\": \"gpt-4o\",\n",
    "        \"messages\": [\n",
    "            {\"role\": \"user\", \"content\": \"Hello, world\"}\n",
    "        ]\n",
    "    }\n",
    ")\n",
    "\n",
    "response_json = response.json()\n",
    "usage = response_json[\"usage\"]\n",
    "prompt_tokens = usage[\"prompt_tokens\"]\n",
    "completion_tokens = usage[\"completion_tokens\"]\n",
    "total_tokens = usage[\"total_tokens\"]\n",
    "\n",
    "print(f\"Completion: {response_json['choices'][0]['message']['content']}\")\n",
    "\n",
    "print(f\"Prompt tokens: {prompt_tokens}\")\n",
    "print(f\"Completion tokens: {completion_tokens}\")\n",
    "print(f\"Total tokens: {total_tokens}\")"
   ]
  },
  {
   "cell_type": "code",
   "execution_count": null,
   "id": "172779fa-f03e-49e2-8cea-86b3866729b6",
   "metadata": {},
   "outputs": [],
   "source": []
  }
 ],
 "metadata": {
  "kernelspec": {
   "display_name": "Python 3 (ipykernel)",
   "language": "python",
   "name": "python3"
  },
  "language_info": {
   "codemirror_mode": {
    "name": "ipython",
    "version": 3
   },
   "file_extension": ".py",
   "mimetype": "text/x-python",
   "name": "python",
   "nbconvert_exporter": "python",
   "pygments_lexer": "ipython3",
   "version": "3.12.10"
  }
 },
 "nbformat": 4,
 "nbformat_minor": 5
}
