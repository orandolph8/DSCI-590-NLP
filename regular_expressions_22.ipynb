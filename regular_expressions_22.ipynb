{
 "cells": [
  {
   "cell_type": "markdown",
   "metadata": {},
   "source": [
    "# Regular Expressions"
   ]
  },
  {
   "cell_type": "markdown",
   "metadata": {},
   "source": [
    "Created by Olga Scrivner\n",
    "\n",
    "Date: 08/28/2022\n",
    "\n",
    "Objective: Practice for Regular Expressions - week 2"
   ]
  },
  {
   "cell_type": "code",
   "execution_count": 1,
   "metadata": {},
   "outputs": [],
   "source": [
    "import re"
   ]
  },
  {
   "cell_type": "markdown",
   "metadata": {},
   "source": [
    "## Scraping text"
   ]
  },
  {
   "cell_type": "code",
   "execution_count": 3,
   "metadata": {},
   "outputs": [
    {
     "name": "stdout",
     "output_type": "stream",
     "text": [
      "['March 11, 2016']\n",
      "['March 11, 2016']\n",
      "['February 12, 2016']\n",
      "['March 25, 2016']\n"
     ]
    }
   ],
   "source": [
    "f = open('scraping_a.txt')\n",
    "content = f.readlines() \n",
    "f.close()\n",
    "for line in content: #iterate through every line\n",
    "    #print(line)\n",
    "    x = re.findall('[a-zA-Z]+\\s[0-9][0-9],\\s[0-9]{4}', line)\n",
    "    #if a date is found\n",
    "    if len(x) != 0:\n",
    "        print(x)"
   ]
  },
  {
   "cell_type": "markdown",
   "metadata": {},
   "source": [
    "### Compiling Patterns"
   ]
  },
  {
   "cell_type": "code",
   "execution_count": 4,
   "metadata": {},
   "outputs": [
    {
     "name": "stdout",
     "output_type": "stream",
     "text": [
      "007\n"
     ]
    }
   ],
   "source": [
    "pattern = re.compile(r\"\\d+\") # any numerics [0-9]+\n",
    "\n",
    "string = \"007 James Bond\"\n",
    "\n",
    "result = pattern.match(string)\n",
    "\n",
    "print(result.group())"
   ]
  },
  {
   "cell_type": "markdown",
   "metadata": {},
   "source": [
    "create an object with the search pattern"
   ]
  },
  {
   "cell_type": "code",
   "execution_count": 5,
   "metadata": {},
   "outputs": [],
   "source": [
    "pattern = re.compile(r\"[a-zA-Z]+\\s[0-9][0-9],\\s[0-9]{4}\")"
   ]
  },
  {
   "cell_type": "markdown",
   "metadata": {},
   "source": [
    "Clean text: combine all lines, remove trailing spaces and new lines"
   ]
  },
  {
   "cell_type": "code",
   "execution_count": 6,
   "metadata": {},
   "outputs": [
    {
     "name": "stdout",
     "output_type": "stream",
     "text": [
      "Friday, March 11, 2016 8:35 to 9:35 a.m. Barona Resort 1932 Wildcat Canyon Road Lakeside, CA 92040 643765rdddtFriday, March 11, 2016iyfutkdkyrz ITEM NO. +1. The Executive Committee is asked to review and approve the minutes from its February 12, 2016, meeting. +3A. Draft Board Business Agenda - March 25, 2016 +3B. Draft Board Policy Agenda --iytdutrs April 8, 2016khnckhnc +4.\n"
     ]
    }
   ],
   "source": [
    "strings = \" \".join(line.strip().rstrip(\"\\n\") for line in content)\n",
    "print(strings)\n"
   ]
  },
  {
   "cell_type": "code",
   "execution_count": 7,
   "metadata": {},
   "outputs": [
    {
     "data": {
      "text/plain": [
       "['March 11, 2016', 'March 11, 2016', 'February 12, 2016', 'March 25, 2016']"
      ]
     },
     "execution_count": 7,
     "metadata": {},
     "output_type": "execute_result"
    }
   ],
   "source": [
    "re.findall(pattern, strings)"
   ]
  },
  {
   "cell_type": "markdown",
   "metadata": {},
   "source": [
    "### Manipulating Strings\n",
    "\n",
    "split into words"
   ]
  },
  {
   "cell_type": "code",
   "execution_count": 8,
   "metadata": {},
   "outputs": [
    {
     "data": {
      "text/plain": [
       "['Friday',\n",
       " 'March',\n",
       " '11',\n",
       " '2016',\n",
       " '8',\n",
       " '35',\n",
       " 'to',\n",
       " '9',\n",
       " '35',\n",
       " 'a',\n",
       " 'm',\n",
       " 'Barona',\n",
       " 'Resort',\n",
       " '1932',\n",
       " 'Wildcat',\n",
       " 'Canyon',\n",
       " 'Road',\n",
       " 'Lakeside',\n",
       " 'CA',\n",
       " '92040',\n",
       " '643765rdddtFriday',\n",
       " 'March',\n",
       " '11',\n",
       " '2016iyfutkdkyrz',\n",
       " 'ITEM',\n",
       " 'NO',\n",
       " '1',\n",
       " 'The',\n",
       " 'Executive',\n",
       " 'Committee',\n",
       " 'is',\n",
       " 'asked',\n",
       " 'to',\n",
       " 'review',\n",
       " 'and',\n",
       " 'approve',\n",
       " 'the',\n",
       " 'minutes',\n",
       " 'from',\n",
       " 'its',\n",
       " 'February',\n",
       " '12',\n",
       " '2016',\n",
       " 'meeting',\n",
       " '3A',\n",
       " 'Draft',\n",
       " 'Board',\n",
       " 'Business',\n",
       " 'Agenda',\n",
       " '',\n",
       " 'March',\n",
       " '25',\n",
       " '2016',\n",
       " '',\n",
       " '3B',\n",
       " 'Draft',\n",
       " 'Board',\n",
       " 'Policy',\n",
       " 'Agenda',\n",
       " '',\n",
       " 'iytdutrs',\n",
       " 'April',\n",
       " '8',\n",
       " '2016khnckhnc',\n",
       " '',\n",
       " '4',\n",
       " '']"
      ]
     },
     "execution_count": 8,
     "metadata": {},
     "output_type": "execute_result"
    }
   ],
   "source": [
    "regex = re.compile('\\s+|\\W+')\n",
    "regex.split(strings)"
   ]
  },
  {
   "cell_type": "code",
   "execution_count": 9,
   "metadata": {},
   "outputs": [
    {
     "data": {
      "text/plain": [
       "'Friday, March 11, 2016 8:35 to 9:35 a.m. Barona Resort 1932 Wildcat Canyon Road Lakeside, CA 92040 643765rdddtFriday, March 11, 2016iyfutkdkyrz ITEM NO. +1. The Executive Committee is asked to review and approve the minutes from its February 12, 2016, meeting. +3A. Draft Board Business Agenda - March 25, 2016 +3B. Draft Board Policy Agenda --iytdutrs April 8, 2016khnckhnc +4.'"
      ]
     },
     "execution_count": 9,
     "metadata": {},
     "output_type": "execute_result"
    }
   ],
   "source": [
    "strings"
   ]
  },
  {
   "cell_type": "code",
   "execution_count": 11,
   "metadata": {},
   "outputs": [
    {
     "data": {
      "text/plain": [
       "['8:35 to 9:35 a.m.', '12:30 to 13:35 p.m.']"
      ]
     },
     "execution_count": 11,
     "metadata": {},
     "output_type": "execute_result"
    }
   ],
   "source": [
    "f = open('scraping_b.txt')\n",
    "content = f.readlines() \n",
    "f.close()\n",
    "strings = \" \".join(line.strip().rstrip(\"\\n\") for line in content)\n",
    "pattern2 = re.compile(r\"[\\d]+:[\\d]+\\sto\\s[\\d]+:[\\d]+\\s[a|p].m.\")\n",
    "re.findall(pattern2, strings)\n"
   ]
  },
  {
   "cell_type": "code",
   "execution_count": null,
   "metadata": {},
   "outputs": [],
   "source": []
  }
 ],
 "metadata": {
  "kernelspec": {
   "display_name": "Python 3 (ipykernel)",
   "language": "python",
   "name": "python3"
  },
  "language_info": {
   "codemirror_mode": {
    "name": "ipython",
    "version": 3
   },
   "file_extension": ".py",
   "mimetype": "text/x-python",
   "name": "python",
   "nbconvert_exporter": "python",
   "pygments_lexer": "ipython3",
   "version": "3.8.12"
  }
 },
 "nbformat": 4,
 "nbformat_minor": 2
}
